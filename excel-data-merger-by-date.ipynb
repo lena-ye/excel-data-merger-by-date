{
 "cells": [
  {
   "cell_type": "code",
   "execution_count": null,
   "id": "f7d69f47",
   "metadata": {},
   "outputs": [],
   "source": [
    "# Excel Data Merger by Date\n",
    "# This program cleans the data from Apple's Health app when exported in Excel format. Specifically, it merges rows displaying same-day data \n",
    "# and sums up the values within each time block to calculate the total value for the entire day.\n",
    "# Lena Ye\n",
    "# May 23, 2024"
   ]
  },
  {
   "cell_type": "code",
   "execution_count": null,
   "id": "363cb730",
   "metadata": {},
   "outputs": [],
   "source": [
    "# Exporting Instructions\n",
    "# iOS 16.6.1\n",
    "\n",
    "# To export Health Data, download an app named \"Simple Health Export CSV\" by developer Eric Wolter from the App Store. \n",
    "# Upon opening the Health Export app, click on \"Connect to Health\".\n",
    "# CUSTOMIZABLE - Go to \"Quantities\" page found in the bottom panel and click the download button beside the data you want to export.\n",
    "#              - In this case, StepCount is used. Click Export on the lower part of the screen\n",
    "# Extract the .csv file from the ZIP Archive.\n",
    "# Open the .csv file in Excel and save it as an .xlsx file. "
   ]
  },
  {
   "cell_type": "code",
   "execution_count": null,
   "id": "88687193",
   "metadata": {},
   "outputs": [],
   "source": [
    "# File-Prepping Instructions\n",
    "# Open the .xlsx file and you will see a number of columns. Delete everything except two: the \"endDate\" and \"value\" columns.\n",
    "# Change \"endDate\" to \"date\" and \"value\" to \"step_count\" for simplification and clarity.\n",
    "# Now that the Excel file is ready, we can begin the data cleaning process."
   ]
  },
  {
   "cell_type": "code",
   "execution_count": null,
   "id": "67e5431d",
   "metadata": {},
   "outputs": [],
   "source": [
    "# OPTIONAL - Install openpyxl, a Python library that can work with Excel files if your system does not have it\n",
    "# !pip install openpyxl"
   ]
  },
  {
   "cell_type": "code",
   "execution_count": null,
   "id": "9651574a-024c-46ec-9946-3a323a3552ed",
   "metadata": {},
   "outputs": [],
   "source": [
    "# Imports\n",
    "import pandas as pd\n",
    "\n",
    "# Read the Excel file\n",
    "# Note: You need to change the file name in the next line to your file path for the program to work\n",
    "file_path = \"paste_file_path_here.xlsx\" # CUSTOMIZEABLE\n",
    "df = pd.read_excel(file_path)\n",
    "\n",
    "# Convert the 'date' column to datetime format\n",
    "df['date'] = pd.to_datetime(df['date'], format='%Y-%m-%d %H:%M:%S +0000')\n",
    "\n",
    "# Extract date (YYYY-MM-DD) from the 'date' column\n",
    "df['date'] = df['date'].dt.date\n",
    "\n",
    "# Group by date and sum the step counts\n",
    "grouped_data = df.groupby('date')['step_count'].sum().reset_index()\n",
    "\n",
    "# Print the grouped data\n",
    "print(grouped_data)\n"
   ]
  },
  {
   "cell_type": "code",
   "execution_count": null,
   "id": "c860645e-59f7-4221-9a0d-443b89ff7de2",
   "metadata": {},
   "outputs": [],
   "source": [
    "# Specify the file path for the output Excel file\n",
    "# Note: You must change the file name in the next line of code to the file path you want the output to be. \n",
    "# It's okay if no file with such a name exist because the program will create it. \n",
    "output_file_path = \"output_file_path.xlsx\" # CUSTOMIZEABLE\n",
    "\n",
    "# Save the grouped_data DataFrame to Excel\n",
    "grouped_data.to_excel(output_file_path, index=False)\n",
    "\n",
    "# Print a confirmation message to let the user know that the file has been saved\n",
    "print(f\"Grouped data has been saved to {output_file_path}\")"
   ]
  }
 ],
 "metadata": {
  "kernelspec": {
   "display_name": "Python 3 (ipykernel)",
   "language": "python",
   "name": "python3"
  },
  "language_info": {
   "codemirror_mode": {
    "name": "ipython",
    "version": 3
   },
   "file_extension": ".py",
   "mimetype": "text/x-python",
   "name": "python",
   "nbconvert_exporter": "python",
   "pygments_lexer": "ipython3",
   "version": "3.11.9"
  }
 },
 "nbformat": 4,
 "nbformat_minor": 5
}
